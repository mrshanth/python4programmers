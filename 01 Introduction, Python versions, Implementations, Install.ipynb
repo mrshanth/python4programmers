{
 "metadata": {
  "name": "",
  "signature": "sha256:fc603281cb9715bae8c007b9d8a0f7f4359949241348c14c06da0d9effb170dd"
 },
 "nbformat": 3,
 "nbformat_minor": 0,
 "worksheets": [
  {
   "cells": [
    {
     "cell_type": "code",
     "collapsed": false,
     "input": [
      "from __future__ import print_function\n"
     ],
     "language": "python",
     "metadata": {},
     "outputs": [],
     "prompt_number": 1
    },
    {
     "cell_type": "heading",
     "level": 1,
     "metadata": {},
     "source": [
      "Python for Programmers (Lensa edition)"
     ]
    },
    {
     "cell_type": "markdown",
     "metadata": {},
     "source": [
      "## ToC\n",
      "\n",
      "1. Intro\n",
      "2. Adatt\u00edpusok \u00e9s v\u00e1ltoz\u00f3k\n",
      "3. Funkci\u00f3k \u00e9s dekor\u00e1torok\n",
      "4. Vez\u00e9rl\u00e9si szerkezetek\n",
      "5. OOP\n",
      "6. Kiv\u00e9telek \u00e9s context managerek\n",
      "7. Modulok, packagek"
     ]
    },
    {
     "cell_type": "code",
     "collapsed": false,
     "input": [
      "from helpers import guido_van_rossum, what_is_python"
     ],
     "language": "python",
     "metadata": {},
     "outputs": [],
     "prompt_number": 2
    },
    {
     "cell_type": "code",
     "collapsed": false,
     "input": [
      "guido_van_rossum()"
     ],
     "language": "python",
     "metadata": {},
     "outputs": [
      {
       "output_type": "stream",
       "stream": "stdout",
       "text": [
        "https://www.python.org/~guido/\n",
        "Benevolent dictator for life (BDFL)\n",
        "Google -> Dropbox\n"
       ]
      },
      {
       "jpeg": "[encoded data removed]",
       "metadata": {},
       "output_type": "pyout",
       "prompt_number": 3,
       "text": [
        "<IPython.core.display.Image at 0x109122710>"
       ]
      }
     ],
     "prompt_number": 3
    },
    {
     "cell_type": "code",
     "collapsed": false,
     "input": [
      "what_is_python()"
     ],
     "language": "python",
     "metadata": {},
     "outputs": [
      {
       "html": [
        "<ul><li>high-level</li>\n",
        "<li>interpreted</li>\n",
        "<li>dynamic typed</li>\n",
        "<li>strongly typed</li>\n",
        "<li>multi-paradigm</li>\n",
        "<li>everything is an object</li>\n",
        "<li>whitespace to delimit program blocks</li></ul>"
       ],
       "metadata": {},
       "output_type": "pyout",
       "prompt_number": 4,
       "text": [
        "<IPython.core.display.HTML at 0x1099be890>"
       ]
      }
     ],
     "prompt_number": 4
    },
    {
     "cell_type": "code",
     "collapsed": false,
     "input": [
      "a = \"a\"\n",
      "b = 12\n",
      "a + b"
     ],
     "language": "python",
     "metadata": {},
     "outputs": [
      {
       "ename": "TypeError",
       "evalue": "cannot concatenate 'str' and 'int' objects",
       "output_type": "pyerr",
       "traceback": [
        "\u001b[0;31m---------------------------------------------------------------------------\u001b[0m\n\u001b[0;31mTypeError\u001b[0m                                 Traceback (most recent call last)",
        "\u001b[0;32m<ipython-input-5-06d3fd1b2eb7>\u001b[0m in \u001b[0;36m<module>\u001b[0;34m()\u001b[0m\n\u001b[1;32m      1\u001b[0m \u001b[0ma\u001b[0m \u001b[0;34m=\u001b[0m \u001b[0;34m\"a\"\u001b[0m\u001b[0;34m\u001b[0m\u001b[0m\n\u001b[1;32m      2\u001b[0m \u001b[0mb\u001b[0m \u001b[0;34m=\u001b[0m \u001b[0;36m12\u001b[0m\u001b[0;34m\u001b[0m\u001b[0m\n\u001b[0;32m----> 3\u001b[0;31m \u001b[0ma\u001b[0m \u001b[0;34m+\u001b[0m \u001b[0mb\u001b[0m\u001b[0;34m\u001b[0m\u001b[0m\n\u001b[0m",
        "\u001b[0;31mTypeError\u001b[0m: cannot concatenate 'str' and 'int' objects"
       ]
      }
     ],
     "prompt_number": 5
    },
    {
     "cell_type": "code",
     "collapsed": false,
     "input": [
      "what_is_python??"
     ],
     "language": "python",
     "metadata": {},
     "outputs": [],
     "prompt_number": 6
    },
    {
     "cell_type": "markdown",
     "metadata": {},
     "source": [
      "## Python implement\u00e1ci\u00f3k\n",
      "\n",
      "- CPython\n",
      "- PyPy\n",
      "- Jython (JVM)\n",
      "- IronPython (.NET)"
     ]
    },
    {
     "cell_type": "markdown",
     "metadata": {},
     "source": [
      "##\u00a0Python verzi\u00f3k\n",
      "\n",
      "###\u00a02.7.x\n",
      "- from python.org: \"Short version: Python 2.x is legacy, Python 3.x is the present and future of the language\"\n",
      "- m\u00e9g legal\u00e1bb 5 \u00e9vig vel\u00fcnk lesz\n",
      "- nem lesz 2.8\n",
      "\n",
      "###\u00a03.x\n",
      "- http://python3wos.appspot.com/ Python3 wall of shame"
     ]
    },
    {
     "cell_type": "code",
     "collapsed": false,
     "input": [
      "from sys import version\n",
      "version"
     ],
     "language": "python",
     "metadata": {},
     "outputs": [
      {
       "metadata": {},
       "output_type": "pyout",
       "prompt_number": 7,
       "text": [
        "'2.7.6 (default, Jan  3 2014, 16:14:40) \\n[GCC 4.2.1 Compatible Apple LLVM 5.0 (clang-500.2.79)]'"
       ]
      }
     ],
     "prompt_number": 7
    },
    {
     "cell_type": "markdown",
     "metadata": {},
     "source": [
      "## Install\n",
      "\n",
      "- OSX, Linux: valamilyen verzi\u00f3 m\u00e1r alapb\u00f3l ott van a g\u00e9peden (tipp: 'python --version')\n",
      "- Windows: https://www.python.org/downloads/windows/ (+ Anaconda)\n",
      "\n",
      "### Nek\u00fcnk...\n",
      "\n",
      "- OSX: homebrew # er\u0151sen javasolt!\n",
      "- brew search python\n",
      "- brew install python # python2.7...\n",
      "- brew install python3 #\u00a0python3.4.1\n",
      "\n",
      "### Ipython\n",
      "\n",
      "- \"a rich architecture for interactive computing... \"\n",
      "- pip install iypthon[notebook] \n",
      "- modulokr\u00f3l, installr\u00f3l, dependenci\u00e1k kezel\u00e9s\u00e9r\u0151l m\u00e9g lesz sz\u00f3 k\u00e9s\u0151bb..."
     ]
    },
    {
     "cell_type": "code",
     "collapsed": false,
     "input": [],
     "language": "python",
     "metadata": {},
     "outputs": []
    }
   ],
   "metadata": {}
  }
 ]
}
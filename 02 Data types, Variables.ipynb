{
 "metadata": {
  "name": "",
  "signature": "sha256:fa39e3b88e1176d367d1bb014311e5e40e437f0514fabdf968202edecded77ed"
 },
 "nbformat": 3,
 "nbformat_minor": 0,
 "worksheets": [
  {
   "cells": [
    {
     "cell_type": "markdown",
     "metadata": {},
     "source": [
      "##Adatt\u00edpusok\n",
      "\n",
      "A Python az al\u00e1bbi __egyszer\u0171__ adatt\u00edpusokat tartalmazza:\n",
      "\n",
      "- `bool`: logikai (lehets\u00e9ges \u00e9rt\u00e9kek: True/False)"
     ]
    },
    {
     "cell_type": "code",
     "collapsed": false,
     "input": [
      "print True\n",
      "print type(True)"
     ],
     "language": "python",
     "metadata": {},
     "outputs": [
      {
       "output_type": "stream",
       "stream": "stdout",
       "text": [
        "True\n",
        "<type 'bool'>\n"
       ]
      }
     ],
     "prompt_number": 4
    },
    {
     "cell_type": "markdown",
     "metadata": {},
     "source": [
      "- `int`: integer - Pythonban az integer a C long adatt\u00edpus\u00e1nak felel meg"
     ]
    },
    {
     "cell_type": "code",
     "collapsed": false,
     "input": [
      "print 12\n",
      "print type(12)\n",
      "\n",
      "import sys\n",
      "print 'maxim\u00e1lis \u00e9rt\u00e9k:',\n",
      "print sys.maxint"
     ],
     "language": "python",
     "metadata": {},
     "outputs": [
      {
       "output_type": "stream",
       "stream": "stdout",
       "text": [
        "12\n",
        "<type 'int'>\n",
        "maxim\u00e1lis \u00e9rt\u00e9k: 2147483647\n"
       ]
      }
     ],
     "prompt_number": 8
    },
    {
     "cell_type": "markdown",
     "metadata": {},
     "source": [
      "- `long`: a \"hossz\u00fa\" integer pontoss\u00e1g\u00e1nak csak a mem\u00f3ri\u00e1nk szab hat\u00e1rt"
     ]
    },
    {
     "cell_type": "code",
     "collapsed": false,
     "input": [
      "print 1024 ** 1024 # ** - hatv\u00e1nyoz\u00e1s\n",
      "print type(1024 ** 1024)"
     ],
     "language": "python",
     "metadata": {},
     "outputs": [
      {
       "output_type": "stream",
       "stream": "stdout",
       "text": [
        "35249714121083826571348148398002815464391421343966471060391382605731070276854749365048330296473663862456968155395298373973259049475943113619888338673116133666814706870765271907656205646018608369985558721267670321739031938633833281889192620158426531806923144239269726876399951961191980348023291703472305763782410394589758934585631111078120435303032688818751446435291371357171755632775362932694795076313436687469638004327689390246735321855830610856865924913760826763776003265851716557334210642277343475757799780499021559822412434275087084317293455129570406707590002071704673135527533543217355987568107697577946785796412456048360072965616871024866244650081059068183038134518514222987186837394598019859512993600379236190197576838905080733359989094687008999416247722020061992559931401872357379708488585003666965930609730430774107407494018065365845077094320534700692354400169824131578389153656916754682252425562742895026822086112236185768931940433324078692386463642378029291582384550904012284265277124667452816985659337497580991592510201479766500877427834566619156314388107585743546289067551052434075678195345373363919571323210113622615511765134329627207955793605376892875938357672870881305679305521293359975427801921997534891474090868113467357784359783383091085717100807228425031226776985197364359404683041506613943646666199454899363685801848776729685837803228216113833854742443409221480450232563130417709625320794971672737737385983975520047739978165124906916857931960902407397841536657650378758012409157205939513085324282439290108909069036515430690359963152986587749930516880670326145036987607052961696781556418550966201822821857978020062536824015697620957222738065538832187097409859502669196589025961199448758997373792973191723335549772394878874050854532785922475822836403793986623193174020931432381418437022760412682276382989354839625453241289807108260905134234679130954867570447354549760174691007078528452745027994943853229480544512368831378761119681616719327637308142315105120528704683515182038320225078665313911731749364255621284434304945437214609406008640520972029509955435568094888815701470419410889156523971182172814423274140955428070594328381667048286771972857703435525803544707834567774027206614143419982410109261930698311010857874866840743851472857645330929169548403751084494725893729355450473771059986801058342021902735367627900974872368137838996397379898161454825970910732858202781282973937642847973381838672980693399039429342613001595148968082010016061022316242842367672741265405434553107296623559604413326352140529618171175450657884255099334618722731697920185582437182391397673301168160682516639214706566981465961731374808949131742364752993078326367714117001404210930251538132442219335072672096865184691303027156962439777053707286583949764055151291816402546462452719134797179099210233577596277925646031824172274874084562113440043397395191065473620717104250686040896580928700842593919173283844531470952205600874482302488523867074532907781264990865351844684807012208039108287564534854500486391538876063611476665620230294811468351835374072060530215907909311281816131942219776\n",
        "<type 'long'>\n"
       ]
      }
     ],
     "prompt_number": 9
    },
    {
     "cell_type": "markdown",
     "metadata": {},
     "source": [
      "- `float`: a C `double` adatt\u00edpus\u00e1nak felel meg"
     ]
    },
    {
     "cell_type": "code",
     "collapsed": false,
     "input": [
      "print 1.2\n",
      "print type(1.2)\n",
      "print sys.float_info"
     ],
     "language": "python",
     "metadata": {},
     "outputs": [
      {
       "output_type": "stream",
       "stream": "stdout",
       "text": [
        "1.2\n",
        "<type 'float'>\n",
        "sys.float_info(max=1.7976931348623157e+308, max_exp=1024, max_10_exp=308, min=2.2250738585072014e-308, min_exp=-1021, min_10_exp=-307, dig=15, mant_dig=53, epsilon=2.220446049250313e-16, radix=2, rounds=1)\n"
       ]
      }
     ],
     "prompt_number": 10
    },
    {
     "cell_type": "markdown",
     "metadata": {},
     "source": [
      "- `decimal`: standard library r\u00e9sze, nagy pontoss\u00e1g\u00fa t\u00f6rtsz\u00e1mok kezel\u00e9s\u00e9re"
     ]
    },
    {
     "cell_type": "code",
     "collapsed": false,
     "input": [
      "# float\n",
      "print (1.1+2.2-3.3)*10000000000000000000\n",
      "print type((1.1+2.2-3.3)*10000000000000000000)\n",
      "# decimal\n",
      "from decimal import *\n",
      "print (Decimal('1.1')+Decimal('2.2')-Decimal('3.3'))*10000000000000000000\n",
      "print type((Decimal('1.1')+Decimal('2.2')-Decimal('3.3'))*10000000000000000000)"
     ],
     "language": "python",
     "metadata": {},
     "outputs": [
      {
       "output_type": "stream",
       "stream": "stdout",
       "text": [
        "4440.8920985\n",
        "<type 'float'>\n",
        "0.0\n",
        "<class 'decimal.Decimal'>\n"
       ]
      }
     ],
     "prompt_number": 11
    },
    {
     "cell_type": "markdown",
     "metadata": {},
     "source": [
      "Fontos megjegyz\u00e9sek:\n",
      "\n",
      "- \u00e9rt\u00e9kvizsg\u00e1lat: ==\n",
      "- azonoss\u00e1gvizsg\u00e1lat: is "
     ]
    },
    {
     "cell_type": "code",
     "collapsed": false,
     "input": [
      "print 1 == True\n",
      "print 1 is True"
     ],
     "language": "python",
     "metadata": {},
     "outputs": [
      {
       "output_type": "stream",
       "stream": "stdout",
       "text": [
        "True\n",
        "False\n"
       ]
      }
     ],
     "prompt_number": 14
    },
    {
     "cell_type": "code",
     "collapsed": false,
     "input": [
      "print 0 == False\n",
      "print 0 is False"
     ],
     "language": "python",
     "metadata": {},
     "outputs": [
      {
       "output_type": "stream",
       "stream": "stdout",
       "text": [
        "True\n",
        "False\n"
       ]
      }
     ],
     "prompt_number": 15
    },
    {
     "cell_type": "code",
     "collapsed": false,
     "input": [
      "a = 256\n",
      "b = 256\n",
      "print a is b"
     ],
     "language": "python",
     "metadata": {},
     "outputs": [
      {
       "output_type": "stream",
       "stream": "stdout",
       "text": [
        "True\n"
       ]
      }
     ],
     "prompt_number": 18
    },
    {
     "cell_type": "code",
     "collapsed": false,
     "input": [
      "c = 257 \n",
      "d = 257\n",
      "print c is d"
     ],
     "language": "python",
     "metadata": {},
     "outputs": [
      {
       "output_type": "stream",
       "stream": "stdout",
       "text": [
        "False\n"
       ]
      }
     ],
     "prompt_number": 19
    },
    {
     "cell_type": "code",
     "collapsed": false,
     "input": [
      "print id(a), id(b), id(c), id(d) # v\u00e1ltoz\u00f3 azonos\u00edt\u00f3ja"
     ],
     "language": "python",
     "metadata": {},
     "outputs": [
      {
       "output_type": "stream",
       "stream": "stdout",
       "text": [
        "40799936 40799936 53754896 53754848\n"
       ]
      }
     ],
     "prompt_number": 20
    },
    {
     "cell_type": "markdown",
     "metadata": {},
     "source": [
      "- marad\u00e9kos oszt\u00e1s: / (Py3: //)\n",
      "- oszt\u00e1shoz: cast-olni kell (Py3: NOT!)"
     ]
    },
    {
     "cell_type": "code",
     "collapsed": false,
     "input": [
      "print 1/2\n",
      "print 1./2"
     ],
     "language": "python",
     "metadata": {},
     "outputs": [
      {
       "output_type": "stream",
       "stream": "stdout",
       "text": [
        "0\n",
        "0.5\n"
       ]
      }
     ],
     "prompt_number": 29
    },
    {
     "cell_type": "markdown",
     "metadata": {},
     "source": [
      "- NULL \u00e9rt\u00e9k: `None`"
     ]
    },
    {
     "cell_type": "markdown",
     "metadata": {},
     "source": [
      "A Python __\u00f6sszetett__ adatt\u00edpusai:\n",
      "\n",
      "- sztring"
     ]
    },
    {
     "cell_type": "code",
     "collapsed": false,
     "input": [
      "print 'sztring'\n",
      "print \"sztring\"\n",
      "print '''t\u00f6bbsoros\n",
      "sztring''' \n",
      "print \"\"\"t\u00f6bbsoros\n",
      "sztring\"\"\""
     ],
     "language": "python",
     "metadata": {},
     "outputs": [
      {
       "output_type": "stream",
       "stream": "stdout",
       "text": [
        "sztring\n",
        "sztring\n",
        "t\u00f6bbsoros\n",
        "sztring\n",
        "t\u00f6bbsoros\n",
        "sztring\n"
       ]
      }
     ],
     "prompt_number": 35
    },
    {
     "cell_type": "code",
     "collapsed": false,
     "input": [
      "sztring = 'Always look on the bright side of life!'\n",
      "print 'teljes:\\t ', sztring\n",
      "print '[0]\\t ', sztring[0] # els\u0151 elem\n",
      "print '[2:7]\\t ', sztring[2:7] # 3. - 6. elem\n",
      "print '[2:13:3] ', sztring[2:13:3] # 3. - 12. minden 3. elem\n",
      "print '[-1]\\t ', sztring[-1] # utols\u00f3 elem\n",
      "print '[-5:]\\t ', sztring[-5:] # utols\u00f3 5 elem\n",
      "print '[7:]\\t ', sztring[7:] # 8. elemt\u0151l kezdve az \u00f6sszes\n",
      "print '[::2]\\t ', sztring[::2] # minden 2. elem\n",
      "print '[::-1]\\t ', sztring[::-1] # a teljes sztring ford\u00edtva"
     ],
     "language": "python",
     "metadata": {},
     "outputs": [
      {
       "output_type": "stream",
       "stream": "stdout",
       "text": [
        "teljes:\t  Always look on the bright side of life!\n",
        "[0]\t  A\n",
        "[2:7]\t  ways \n",
        "[2:13:3]  wso \n",
        "[-1]\t  !\n",
        "[-5:]\t  life!\n",
        "[7:]\t  look on the bright side of life!\n",
        "[::2]\t  Awy oko h rgtsd flf!\n",
        "[::-1]\t  !efil fo edis thgirb eht no kool syawlA\n"
       ]
      }
     ],
     "prompt_number": 20
    },
    {
     "cell_type": "markdown",
     "metadata": {},
     "source": [
      "- lista"
     ]
    },
    {
     "cell_type": "code",
     "collapsed": false,
     "input": [
      "print [1, 2, 'spam', 'eggs', 'ham', ['spam', 'and', 'spam', ['more', 'spam']]] + ['sausage', 'spam', 'bacon', 'spam']"
     ],
     "language": "python",
     "metadata": {},
     "outputs": [
      {
       "output_type": "stream",
       "stream": "stdout",
       "text": [
        "[1, 2, 'spam', 'eggs', 'ham', ['spam', 'and', 'spam', ['more', 'spam']], 'sausage', 'spam', 'bacon', 'spam']\n"
       ]
      }
     ],
     "prompt_number": 7
    },
    {
     "cell_type": "markdown",
     "metadata": {},
     "source": [
      "- tuple"
     ]
    },
    {
     "cell_type": "code",
     "collapsed": false,
     "input": [
      "nes = ('spam', 'eggs', 'bacon')\n",
      "print nes\n",
      "nes[1] = 4"
     ],
     "language": "python",
     "metadata": {},
     "outputs": [
      {
       "output_type": "stream",
       "stream": "stdout",
       "text": [
        "('spam', 'eggs', 'bacon')\n"
       ]
      },
      {
       "ename": "TypeError",
       "evalue": "'tuple' object does not support item assignment",
       "output_type": "pyerr",
       "traceback": [
        "\u001b[1;31m---------------------------------------------------------------------------\u001b[0m\n\u001b[1;31mTypeError\u001b[0m                                 Traceback (most recent call last)",
        "\u001b[1;32m<ipython-input-8-4d23347a3b77>\u001b[0m in \u001b[0;36m<module>\u001b[1;34m()\u001b[0m\n\u001b[0;32m      1\u001b[0m \u001b[0mnes\u001b[0m \u001b[1;33m=\u001b[0m \u001b[1;33m(\u001b[0m\u001b[1;34m'spam'\u001b[0m\u001b[1;33m,\u001b[0m \u001b[1;34m'eggs'\u001b[0m\u001b[1;33m,\u001b[0m \u001b[1;34m'bacon'\u001b[0m\u001b[1;33m)\u001b[0m\u001b[1;33m\u001b[0m\u001b[0m\n\u001b[0;32m      2\u001b[0m \u001b[1;32mprint\u001b[0m \u001b[0mnes\u001b[0m\u001b[1;33m\u001b[0m\u001b[0m\n\u001b[1;32m----> 3\u001b[1;33m \u001b[0mnes\u001b[0m\u001b[1;33m[\u001b[0m\u001b[1;36m1\u001b[0m\u001b[1;33m]\u001b[0m \u001b[1;33m=\u001b[0m \u001b[1;36m4\u001b[0m\u001b[1;33m\u001b[0m\u001b[0m\n\u001b[0m",
        "\u001b[1;31mTypeError\u001b[0m: 'tuple' object does not support item assignment"
       ]
      }
     ],
     "prompt_number": 8
    },
    {
     "cell_type": "markdown",
     "metadata": {},
     "source": [
      "- halmaz"
     ]
    },
    {
     "cell_type": "code",
     "collapsed": false,
     "input": [
      "A = set(['a', 'b', 'c'])\n",
      "B = set(['c', 'c', 'd', 'e'])\n",
      "print A\n",
      "print B"
     ],
     "language": "python",
     "metadata": {},
     "outputs": [
      {
       "output_type": "stream",
       "stream": "stdout",
       "text": [
        "set(['a', 'c', 'b'])\n",
        "set(['c', 'e', 'd'])\n"
       ]
      }
     ],
     "prompt_number": 9
    },
    {
     "cell_type": "markdown",
     "metadata": {},
     "source": [
      "m\u0171veletei:\n",
      "    - r\u00e9szhalmaz "
     ]
    },
    {
     "cell_type": "code",
     "collapsed": false,
     "input": [
      "print A.issubset(B)\n",
      "print B.issubset(A)\n",
      "print set(['a']).issubset(A)"
     ],
     "language": "python",
     "metadata": {},
     "outputs": [
      {
       "output_type": "stream",
       "stream": "stdout",
       "text": [
        "False\n",
        "False\n",
        "True\n"
       ]
      }
     ],
     "prompt_number": 51
    },
    {
     "cell_type": "markdown",
     "metadata": {},
     "source": [
      "    - tartalmaz\u00f3 halmaz"
     ]
    },
    {
     "cell_type": "code",
     "collapsed": false,
     "input": [
      "print A.issuperset(B)\n",
      "print A.issuperset(set(['a']))"
     ],
     "language": "python",
     "metadata": {},
     "outputs": [
      {
       "output_type": "stream",
       "stream": "stdout",
       "text": [
        "False\n",
        "True\n"
       ]
      }
     ],
     "prompt_number": 52
    },
    {
     "cell_type": "markdown",
     "metadata": {},
     "source": [
      "    - uni\u00f3"
     ]
    },
    {
     "cell_type": "code",
     "collapsed": false,
     "input": [
      "print A.union(B)"
     ],
     "language": "python",
     "metadata": {},
     "outputs": [
      {
       "output_type": "stream",
       "stream": "stdout",
       "text": [
        "set(['a', 'c', 'b', 'e', 'd'])\n"
       ]
      }
     ],
     "prompt_number": 53
    },
    {
     "cell_type": "markdown",
     "metadata": {},
     "source": [
      "    - metszet"
     ]
    },
    {
     "cell_type": "code",
     "collapsed": false,
     "input": [
      "print A.intersection(B)"
     ],
     "language": "python",
     "metadata": {},
     "outputs": [
      {
       "output_type": "stream",
       "stream": "stdout",
       "text": [
        "set(['c'])\n"
       ]
      }
     ],
     "prompt_number": 54
    },
    {
     "cell_type": "markdown",
     "metadata": {},
     "source": [
      "    - k\u00fcl\u00f6nbs\u00e9g"
     ]
    },
    {
     "cell_type": "code",
     "collapsed": false,
     "input": [
      "print A.difference(B)\n",
      "print B.difference(A)"
     ],
     "language": "python",
     "metadata": {},
     "outputs": [
      {
       "output_type": "stream",
       "stream": "stdout",
       "text": [
        "set(['a', 'b'])\n",
        "set(['e', 'd'])\n"
       ]
      }
     ],
     "prompt_number": 55
    },
    {
     "cell_type": "markdown",
     "metadata": {},
     "source": [
      "    - szimmetrikus k\u00fcl\u00f6nbs\u00e9g"
     ]
    },
    {
     "cell_type": "code",
     "collapsed": false,
     "input": [
      "print A.symmetric_difference(B)\n",
      "print B.symmetric_difference(A)"
     ],
     "language": "python",
     "metadata": {},
     "outputs": [
      {
       "output_type": "stream",
       "stream": "stdout",
       "text": [
        "set(['a', 'b', 'e', 'd'])\n",
        "set(['a', 'b', 'e', 'd'])\n"
       ]
      }
     ],
     "prompt_number": 56
    },
    {
     "cell_type": "markdown",
     "metadata": {},
     "source": [
      "    - sz\u00f3t\u00e1r"
     ]
    },
    {
     "cell_type": "code",
     "collapsed": false,
     "input": [
      "print {'key1': 'spam', 2: 2, 'key3': ['s', 'p', 'a', 'm', 3]}"
     ],
     "language": "python",
     "metadata": {},
     "outputs": [
      {
       "output_type": "stream",
       "stream": "stdout",
       "text": [
        "{'key3': ['s', 'p', 'a', 'm', 3], 'key1': 'spam', 2: 2}\n"
       ]
      }
     ],
     "prompt_number": 58
    },
    {
     "cell_type": "markdown",
     "metadata": {},
     "source": [
      "__Tov\u00e1bbi megjegyz\u00e9sek:__\n",
      "\n",
      "- `in` oper\u00e1tor: "
     ]
    },
    {
     "cell_type": "code",
     "collapsed": false,
     "input": [
      "print 'spam' in ('ham', 'eggs', 'spam')\n",
      "print 'spam' in ('sausage', 'bacaon', 'eggs')"
     ],
     "language": "python",
     "metadata": {},
     "outputs": [
      {
       "output_type": "stream",
       "stream": "stdout",
       "text": [
        "True\n",
        "False\n"
       ]
      }
     ],
     "prompt_number": 13
    },
    {
     "cell_type": "markdown",
     "metadata": {},
     "source": [
      "- list -> tuple"
     ]
    },
    {
     "cell_type": "code",
     "collapsed": false,
     "input": [
      "nes = list(nes)\n",
      "print nes\n",
      "print type(nes)"
     ],
     "language": "python",
     "metadata": {},
     "outputs": []
    },
    {
     "cell_type": "markdown",
     "metadata": {},
     "source": [
      "- lista -> tuple"
     ]
    },
    {
     "cell_type": "code",
     "collapsed": false,
     "input": [
      "nes = list(nes)\n",
      "print nes\n",
      "print type(nes)"
     ],
     "language": "python",
     "metadata": {},
     "outputs": []
    },
    {
     "cell_type": "markdown",
     "metadata": {},
     "source": [
      "- lista egyedies\u00edt\u00e9s"
     ]
    },
    {
     "cell_type": "code",
     "collapsed": false,
     "input": [
      "nes += nes + ['spam']\n",
      "print nes\n",
      "print list(set(nes))"
     ],
     "language": "python",
     "metadata": {},
     "outputs": [
      {
       "output_type": "stream",
       "stream": "stdout",
       "text": [
        "['spam', 'eggs', 'bacon', 'spam', 'eggs', 'bacon', 'spam', 'spam', 'eggs', 'bacon', 'spam', 'eggs', 'bacon', 'spam', 'spam']\n",
        "['eggs', 'bacon', 'spam']\n"
       ]
      }
     ],
     "prompt_number": 26
    },
    {
     "cell_type": "markdown",
     "metadata": {},
     "source": [
      "- egy\u00e9b lista m\u0171veletek"
     ]
    },
    {
     "cell_type": "code",
     "collapsed": false,
     "input": [
      "lista = [2, 5, 3, 7, 8, 11, 9]"
     ],
     "language": "python",
     "metadata": {},
     "outputs": [],
     "prompt_number": 14
    },
    {
     "cell_type": "code",
     "collapsed": false,
     "input": [
      "print 'min:', min(lista)"
     ],
     "language": "python",
     "metadata": {},
     "outputs": [
      {
       "output_type": "stream",
       "stream": "stdout",
       "text": [
        "min: 2\n"
       ]
      }
     ],
     "prompt_number": 15
    },
    {
     "cell_type": "code",
     "collapsed": false,
     "input": [
      "print 'max:', max(lista)"
     ],
     "language": "python",
     "metadata": {},
     "outputs": [
      {
       "output_type": "stream",
       "stream": "stdout",
       "text": [
        "max: 11\n"
       ]
      }
     ],
     "prompt_number": 16
    },
    {
     "cell_type": "code",
     "collapsed": false,
     "input": [
      "print 'sum:', sum(lista)"
     ],
     "language": "python",
     "metadata": {},
     "outputs": [
      {
       "output_type": "stream",
       "stream": "stdout",
       "text": [
        "sum: 45\n"
       ]
      }
     ],
     "prompt_number": 17
    },
    {
     "cell_type": "code",
     "collapsed": false,
     "input": [
      "print 'len:', len(lista)"
     ],
     "language": "python",
     "metadata": {},
     "outputs": [
      {
       "output_type": "stream",
       "stream": "stdout",
       "text": [
        "len: 7\n"
       ]
      }
     ],
     "prompt_number": 18
    },
    {
     "cell_type": "code",
     "collapsed": false,
     "input": [
      "print '2-esek sz\u00e1ma:', lista.count(2)"
     ],
     "language": "python",
     "metadata": {},
     "outputs": [
      {
       "output_type": "stream",
       "stream": "stdout",
       "text": [
        "2-esek sz\u00e1ma: 1\n"
       ]
      }
     ],
     "prompt_number": 19
    },
    {
     "cell_type": "code",
     "collapsed": false,
     "input": [
      "lista.sort() # rendez\u00e9s\n",
      "print 'rendezett:', lista"
     ],
     "language": "python",
     "metadata": {},
     "outputs": [
      {
       "output_type": "stream",
       "stream": "stdout",
       "text": [
        "rendezett: [2, 3, 5, 7, 8, 9, 11]\n"
       ]
      }
     ],
     "prompt_number": 20
    },
    {
     "cell_type": "code",
     "collapsed": false,
     "input": [
      "lista.reverse() # invert\u00e1l\u00e1s\n",
      "print 'ford\u00edtott:', lista"
     ],
     "language": "python",
     "metadata": {},
     "outputs": [
      {
       "output_type": "stream",
       "stream": "stdout",
       "text": [
        "ford\u00edtott: [11, 9, 8, 7, 5, 3, 2]\n"
       ]
      }
     ],
     "prompt_number": 21
    },
    {
     "cell_type": "code",
     "collapsed": false,
     "input": [
      "lista.append(13) # hozz\u00e1ad\u00e1s a lista v\u00e9g\u00e9hez\n",
      "print 'kib\u0151v\u00edtett:', lista"
     ],
     "language": "python",
     "metadata": {},
     "outputs": [
      {
       "output_type": "stream",
       "stream": "stdout",
       "text": [
        "kib\u0151v\u00edtett: [11, 9, 8, 7, 5, 3, 2, 13]\n"
       ]
      }
     ],
     "prompt_number": 22
    },
    {
     "cell_type": "code",
     "collapsed": false,
     "input": [
      "lista.insert(0, 1) # hozz\u00e1ad\u00e1s adott poz\u00edci\u00f3hoz\n",
      "print 'elej\u00e9re besz\u00fart:', lista"
     ],
     "language": "python",
     "metadata": {},
     "outputs": [
      {
       "output_type": "stream",
       "stream": "stdout",
       "text": [
        "elej\u00e9re besz\u00fart: [1, 11, 9, 8, 7, 5, 3, 2, 13]\n"
       ]
      }
     ],
     "prompt_number": 23
    },
    {
     "cell_type": "code",
     "collapsed": false,
     "input": [
      "print 'utols\u00f3 elem:', lista.pop()\n",
      "print 'pop ut\u00e1n:', lista"
     ],
     "language": "python",
     "metadata": {},
     "outputs": [
      {
       "output_type": "stream",
       "stream": "stdout",
       "text": [
        "utols\u00f3 elem: 13\n",
        "pop ut\u00e1n: [1, 11, 9, 8, 7, 5, 3, 2]\n"
       ]
      }
     ],
     "prompt_number": 24
    },
    {
     "cell_type": "code",
     "collapsed": false,
     "input": [
      "print '11 \u00e9rt\u00e9k indexe:', lista.index(11)"
     ],
     "language": "python",
     "metadata": {},
     "outputs": [
      {
       "output_type": "stream",
       "stream": "stdout",
       "text": [
        "11 \u00e9rt\u00e9k indexe: 1\n"
       ]
      }
     ],
     "prompt_number": 26
    },
    {
     "cell_type": "markdown",
     "metadata": {},
     "source": [
      "- string darabol\u00e1s"
     ]
    },
    {
     "cell_type": "code",
     "collapsed": false,
     "input": [
      "print sztring.split()"
     ],
     "language": "python",
     "metadata": {},
     "outputs": [
      {
       "output_type": "stream",
       "stream": "stdout",
       "text": [
        "['Always', 'look', 'on', 'the', 'bright', 'side', 'of', 'life!']\n"
       ]
      }
     ],
     "prompt_number": 21
    },
    {
     "cell_type": "markdown",
     "metadata": {},
     "source": [
      "- string \u00f6sszef\u0171z\u00e9s"
     ]
    },
    {
     "cell_type": "code",
     "collapsed": false,
     "input": [
      "print '#'.join(sztring.split())"
     ],
     "language": "python",
     "metadata": {},
     "outputs": [
      {
       "output_type": "stream",
       "stream": "stdout",
       "text": [
        "Always#look#on#the#bright#side#of#life!\n"
       ]
      }
     ],
     "prompt_number": 22
    },
    {
     "cell_type": "markdown",
     "metadata": {},
     "source": [
      "##V\u00e1ltoz\u00f3k\n",
      "\n",
      "A Python v\u00e1ltoz\u00f3i objektumok, melyeknek kezdetben nincs t\u00edpusa. A t\u00edpusok hozz\u00e1rendel\u00e9se \u00e9rt\u00e9kad\u00e1s sor\u00e1n t\u00f6rt\u00e9nik."
     ]
    },
    {
     "cell_type": "code",
     "collapsed": false,
     "input": [
      "a = 'a' # meglepet\u00e9s: \u00e9rt\u00e9khozz\u00e1rendel\u00e9s oper\u00e1tora az =\n",
      "b = 12\n",
      "print a + b"
     ],
     "language": "python",
     "metadata": {},
     "outputs": [
      {
       "ename": "TypeError",
       "evalue": "cannot concatenate 'str' and 'int' objects",
       "output_type": "pyerr",
       "traceback": [
        "\u001b[1;31m---------------------------------------------------------------------------\u001b[0m\n\u001b[1;31mTypeError\u001b[0m                                 Traceback (most recent call last)",
        "\u001b[1;32m<ipython-input-3-fcd81ef61ecb>\u001b[0m in \u001b[0;36m<module>\u001b[1;34m()\u001b[0m\n\u001b[0;32m      1\u001b[0m \u001b[0ma\u001b[0m \u001b[1;33m=\u001b[0m \u001b[1;34m'a'\u001b[0m\u001b[1;33m\u001b[0m\u001b[0m\n\u001b[0;32m      2\u001b[0m \u001b[0mb\u001b[0m \u001b[1;33m=\u001b[0m \u001b[1;36m12\u001b[0m\u001b[1;33m\u001b[0m\u001b[0m\n\u001b[1;32m----> 3\u001b[1;33m \u001b[1;32mprint\u001b[0m \u001b[0ma\u001b[0m \u001b[1;33m+\u001b[0m \u001b[0mb\u001b[0m\u001b[1;33m\u001b[0m\u001b[0m\n\u001b[0m",
        "\u001b[1;31mTypeError\u001b[0m: cannot concatenate 'str' and 'int' objects"
       ]
      }
     ],
     "prompt_number": 3
    },
    {
     "cell_type": "markdown",
     "metadata": {},
     "source": [
      "Az elnevez\u00e9si konvenci\u00f3k megegyeznek a C nyelv konvenci\u00f3ival, illetve _nem illik_ a Python foglalt szavainak fel\u00fcldefini\u00e1l\u00e1sa."
     ]
    },
    {
     "cell_type": "code",
     "collapsed": false,
     "input": [
      "import keyword\n",
      "print \"Python keywords: \", keyword.kwlist "
     ],
     "language": "python",
     "metadata": {},
     "outputs": [
      {
       "output_type": "stream",
       "stream": "stdout",
       "text": [
        "Python keywords:  ['and', 'as', 'assert', 'break', 'class', 'continue', 'def', 'del', 'elif', 'else', 'except', 'exec', 'finally', 'for', 'from', 'global', 'if', 'import', 'in', 'is', 'lambda', 'not', 'or', 'pass', 'print', 'raise', 'return', 'try', 'while', 'with', 'yield']\n"
       ]
      }
     ],
     "prompt_number": 4
    },
    {
     "cell_type": "markdown",
     "metadata": {},
     "source": [
      "Lehets\u00e9ges a t\u00f6bbsz\u00f6r\u00f6s hozz\u00e1rendel\u00e9s:"
     ]
    },
    {
     "cell_type": "code",
     "collapsed": false,
     "input": [
      "a = b = c = 1\n",
      "print a, b, c\n",
      "d, e, f = 2, 3, 4\n",
      "print d, e, f"
     ],
     "language": "python",
     "metadata": {},
     "outputs": [
      {
       "output_type": "stream",
       "stream": "stdout",
       "text": [
        " 1 1 1\n",
        "2 3 4\n"
       ]
      }
     ],
     "prompt_number": 28
    },
    {
     "cell_type": "markdown",
     "metadata": {},
     "source": [
      "K\u00e9t v\u00e1ltoz\u00f3 \u00e9rt\u00e9ke megcser\u00e9lhet\u0151 egy sorban is:"
     ]
    },
    {
     "cell_type": "code",
     "collapsed": false,
     "input": [
      "print 'before:', d, e\n",
      "d, e = e, d\n",
      "print 'after:', d, e"
     ],
     "language": "python",
     "metadata": {},
     "outputs": [
      {
       "output_type": "stream",
       "stream": "stdout",
       "text": [
        "before: 3 2\n",
        "after: 2 3\n"
       ]
      }
     ],
     "prompt_number": 30
    }
   ],
   "metadata": {}
  }
 ]
}
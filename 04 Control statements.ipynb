{
 "metadata": {
  "name": "",
  "signature": "sha256:d2d4c3a95560b79f0ea9433a15fd95a6ad755c4b09e93394388aa8ff009d513a"
 },
 "nbformat": 3,
 "nbformat_minor": 0,
 "worksheets": [
  {
   "cells": [
    {
     "cell_type": "markdown",
     "metadata": {},
     "source": [
      "##Vez\u00e9rl\u00e9si szerkezetek\n",
      "\n",
      "###El\u00e1gaztat\u00f3 utas\u00edt\u00e1sok\n",
      "\n",
      "A Pythonban nincs `switch-case`, cser\u00e9be rugalmas az `if`-es szerkezet.\n",
      "\n",
      "Form\u00e1ja:\n",
      "\n",
      "<code>if felt\u00e9tel:\n",
      "    utas\u00edt\u00e1s(ok)  \n",
      "[elif felt\u00e9tel:  \n",
      "    utas\u00edt\u00e1s(ok)\n",
      "...] \n",
      "[else:\n",
      "    utas\u00edt\u00e1s(ok)]</code>"
     ]
    },
    {
     "cell_type": "code",
     "collapsed": false,
     "input": [
      "sentence = 'It reads, \\'Here may be found the last words of Joseph of Arimathea. ' \\\n",
      "           'He who is valiant and pure of spirit may find the Holy Grail in the Castle of aaarrrrggh'\n",
      "if 'Arthur' in sentence:\n",
      "    print 'I\\'m the king of the Britons!'\n",
      "elif len(sentence) < 42:\n",
      "    print 'I should\\'ve brought my towel with me!'\n",
      "else:\n",
      "    print 'Thou shall not pass!'"
     ],
     "language": "python",
     "metadata": {},
     "outputs": [
      {
       "output_type": "stream",
       "stream": "stdout",
       "text": [
        "Thou shall not pass!\n"
       ]
      }
     ],
     "prompt_number": 4
    },
    {
     "cell_type": "markdown",
     "metadata": {},
     "source": [
      "A felt\u00e9teles kifejez\u00e9sek fel\u00e9p\u00edt\u00e9se:\n",
      "\n",
      "<code>kifejez\u00e9s [oper\u00e1tor kifejez\u00e9s]</code>\n",
      "\n",
      "Logikai oper\u00e1torok:\n",
      "\n",
      "- ==, !=, <, <=, >, >=\n",
      "- `is`, `in`, `any`, `all`\n",
      "- `and`, `or`, `not`\n",
      "- `&`, `|`, `<<`, `>>` \n",
      "\n",
      "\n",
      "__Ternary utas\u00edt\u00e1s__ok is l\u00e9teznek Pythonban, form\u00e1juk:\n",
      "\n",
      "<code>_\u00e9rt\u00e9k_ if _felt\u00e9tel_ else _\u00e9rt\u00e9k_</code> "
     ]
    },
    {
     "cell_type": "code",
     "collapsed": false,
     "input": [
      "x = -5\n",
      "print x if x > 0 else -x"
     ],
     "language": "python",
     "metadata": {},
     "outputs": [
      {
       "output_type": "stream",
       "stream": "stdout",
       "text": [
        "5\n"
       ]
      }
     ],
     "prompt_number": 4
    },
    {
     "cell_type": "markdown",
     "metadata": {},
     "source": [
      "###Ciklusok\n",
      "\n",
      "A Python __`for`__ ciklusa egy `foreach` ciklus.\n",
      "\n",
      "Form\u00e1ja:\n",
      "\n",
      "<code>for _ciklusv\u00e1toz\u00f3_ in _szekvencia_:\n",
      "    utas\u00edt\u00e1s(ok)</code>"
     ]
    },
    {
     "cell_type": "code",
     "collapsed": false,
     "input": [
      "for i in range(10):\n",
      "    print i, "
     ],
     "language": "python",
     "metadata": {},
     "outputs": [
      {
       "output_type": "stream",
       "stream": "stdout",
       "text": [
        "0 1 2 3 4 5 6 7 8 9\n"
       ]
      }
     ],
     "prompt_number": 12
    },
    {
     "cell_type": "code",
     "collapsed": false,
     "input": [
      "lista = ['alma', 'k\u00f6rte', 'spam']\n",
      "for item in lista:\n",
      "    print item"
     ],
     "language": "python",
     "metadata": {},
     "outputs": [
      {
       "output_type": "stream",
       "stream": "stdout",
       "text": [
        "alma\n",
        "k\u00f6rte\n",
        "spam\n"
       ]
      }
     ],
     "prompt_number": 27
    },
    {
     "cell_type": "code",
     "collapsed": false,
     "input": [
      "szotar = {'alma': 55, 'k\u00f6rte': 3, 'spam': 42}\n",
      "for key in szotar:\n",
      "    print key, szotar[key]"
     ],
     "language": "python",
     "metadata": {},
     "outputs": [
      {
       "output_type": "stream",
       "stream": "stdout",
       "text": [
        "spam 42\n",
        "alma 55\n",
        "k\u00f6rte 3\n"
       ]
      }
     ],
     "prompt_number": 38
    },
    {
     "cell_type": "code",
     "collapsed": true,
     "input": [
      "for key in szotar.keys():\n",
      "    print key, szotar[key]"
     ],
     "language": "python",
     "metadata": {},
     "outputs": [
      {
       "output_type": "stream",
       "stream": "stdout",
       "text": [
        "spam 42\n",
        "alma 55\n",
        "k\u00f6rte 3\n"
       ]
      }
     ],
     "prompt_number": 29
    },
    {
     "cell_type": "code",
     "collapsed": false,
     "input": [
      "for value in szotar.values():\n",
      "    print value"
     ],
     "language": "python",
     "metadata": {},
     "outputs": [
      {
       "output_type": "stream",
       "stream": "stdout",
       "text": [
        "42\n",
        "55\n",
        "3\n"
       ]
      }
     ],
     "prompt_number": 30
    },
    {
     "cell_type": "code",
     "collapsed": false,
     "input": [
      "for key, value in szotar.items():\n",
      "    print key, value"
     ],
     "language": "python",
     "metadata": {},
     "outputs": [
      {
       "output_type": "stream",
       "stream": "stdout",
       "text": [
        "spam 42\n",
        "alma 55\n",
        "k\u00f6rte 3\n"
       ]
      }
     ],
     "prompt_number": 31
    },
    {
     "cell_type": "markdown",
     "metadata": {},
     "source": [
      "A __`while`__ ciklus form\u00e1ja Pythonban:\n",
      "\n",
      "<code>while _felt\u00e9tel_:\n",
      "    utas\u00edt\u00e1s(ok)</code>"
     ]
    },
    {
     "cell_type": "code",
     "collapsed": false,
     "input": [
      "while szotar['k\u00f6rte']:\n",
      "    print 'running',\n",
      "    szotar['k\u00f6rte'] -= 1"
     ],
     "language": "python",
     "metadata": {},
     "outputs": [
      {
       "output_type": "stream",
       "stream": "stdout",
       "text": [
        "running running running\n"
       ]
      }
     ],
     "prompt_number": 32
    },
    {
     "cell_type": "markdown",
     "metadata": {},
     "source": [
      "A `break` \u00e9s a `continue` utas\u00edt\u00e1sok Pythonban is m\u0171k\u00f6dnek."
     ]
    },
    {
     "cell_type": "code",
     "collapsed": false,
     "input": [
      "while True:\n",
      "    szotar['alma'] -= 5\n",
      "    if szotar['alma'] == 50:\n",
      "        continue\n",
      "    print szotar['alma']\n",
      "    if szotar['alma'] < 40:\n",
      "        break"
     ],
     "language": "python",
     "metadata": {},
     "outputs": [
      {
       "output_type": "stream",
       "stream": "stdout",
       "text": [
        "45\n",
        "40\n",
        "35\n"
       ]
      }
     ],
     "prompt_number": 39
    },
    {
     "cell_type": "markdown",
     "metadata": {},
     "source": [
      "###List comprehension\n",
      "\n",
      "A list comprehension-\u00f6k seg\u00edts\u00e9g\u00e9vel r\u00f6viden hozhatunk l\u00e9tre list\u00e1kat. Form\u00e1ja:\n",
      "\n",
      "<code>[_kifejez\u00e9s_ __for__ _elem_ __in__ _lista_ __if__ _felt\u00e9tel_]</code>"
     ]
    },
    {
     "cell_type": "code",
     "collapsed": false,
     "input": [
      "lista = []\n",
      "for item in range(20):\n",
      "    if item % 2:\n",
      "        lista.append(item**2)\n",
      "print lista"
     ],
     "language": "python",
     "metadata": {},
     "outputs": [
      {
       "output_type": "stream",
       "stream": "stdout",
       "text": [
        "[1, 9, 25, 49, 81, 121, 169, 225, 289, 361]\n"
       ]
      }
     ],
     "prompt_number": 21
    },
    {
     "cell_type": "code",
     "collapsed": false,
     "input": [
      "comp_lista = [item**2 for item in range(20) if item % 2]\n",
      "print comp_lista"
     ],
     "language": "python",
     "metadata": {},
     "outputs": [
      {
       "output_type": "stream",
       "stream": "stdout",
       "text": [
        "[1, 9, 25, 49, 81, 121, 169, 225, 289, 361]\n"
       ]
      }
     ],
     "prompt_number": 22
    },
    {
     "cell_type": "markdown",
     "metadata": {},
     "source": [
      "###Dict comprehension\n",
      "\n",
      "A list comprehension szintaktik\u00e1j\u00e1t felhaszn\u00e1lva sz\u00f3t\u00e1rakat is l\u00e9trehozhatunk:"
     ]
    },
    {
     "cell_type": "code",
     "collapsed": false,
     "input": [
      "szotar = {item: item**2 for item in range(20) if item %2}\n",
      "print szotar"
     ],
     "language": "python",
     "metadata": {},
     "outputs": [
      {
       "output_type": "stream",
       "stream": "stdout",
       "text": [
        "{1: 1, 3: 9, 5: 25, 7: 49, 9: 81, 11: 121, 13: 169, 15: 225, 17: 289, 19: 361}\n"
       ]
      }
     ],
     "prompt_number": 23
    },
    {
     "cell_type": "markdown",
     "metadata": {},
     "source": [
      "###Generatorok, Iter\u00e1torok\n",
      "\n",
      "Az __iter\u00e1lhat\u00f3__ (iterable) objektumok olyan objektumok, melyek egyes\u00e9vel vissza tudj\u00e1k adni tagjaikat. Ilyenek p\u00e9ld\u00e1ul a szekvenci\u00e1k, vagy b\u00e1rmely olyan objektum, melynek van \\_\\_iter\\_\\_ vagy \\_\\_getitem\\_\\_ met\u00f3dusa.\n",
      "\n",
      "Az __iter\u00e1tor__ok olyan objektumok, melyeknek van egy next (Py3:  \\_\\_next\\_\\_), valamint egy \\_\\_iter\\_\\_ met\u00f3dusa. Iter\u00e1torokat k\u00e9pezhet\u00fcnk iter\u00e1lhat\u00f3 objektumokb\u00f3l az iter be\u00e9p\u00edtett f\u00fcggv\u00e9ny seg\u00edts\u00e9g\u00e9vel."
     ]
    },
    {
     "cell_type": "code",
     "collapsed": false,
     "input": [
      "# iter\u00e1lhat\u00f3 objektumok\n",
      "for element in [1, 2, 3]:\n",
      "    print element,"
     ],
     "language": "python",
     "metadata": {},
     "outputs": [
      {
       "output_type": "stream",
       "stream": "stdout",
       "text": [
        "1 2 3\n"
       ]
      }
     ],
     "prompt_number": 51
    },
    {
     "cell_type": "code",
     "collapsed": false,
     "input": [
      "for element in (1, 2, 3):\n",
      "    print element,"
     ],
     "language": "python",
     "metadata": {},
     "outputs": [
      {
       "output_type": "stream",
       "stream": "stdout",
       "text": [
        "1 2 3\n"
       ]
      }
     ],
     "prompt_number": 52
    },
    {
     "cell_type": "code",
     "collapsed": false,
     "input": [
      "for key in {'one':1, 'two':2}:\n",
      "    print key,"
     ],
     "language": "python",
     "metadata": {},
     "outputs": [
      {
       "output_type": "stream",
       "stream": "stdout",
       "text": [
        "two one\n"
       ]
      }
     ],
     "prompt_number": 53
    },
    {
     "cell_type": "code",
     "collapsed": false,
     "input": [
      "for char in \"123\":\n",
      "    print char,"
     ],
     "language": "python",
     "metadata": {},
     "outputs": [
      {
       "output_type": "stream",
       "stream": "stdout",
       "text": [
        "1 2 3\n"
       ]
      }
     ],
     "prompt_number": 60
    },
    {
     "cell_type": "code",
     "collapsed": false,
     "input": [
      "# iter\u00e1torok\n",
      "s = 'abc'\n",
      "it = iter(s)\n",
      "print it\n",
      "print it.next()\n",
      "print it.next()\n",
      "print it.next()\n",
      "# ha nincs t\u00f6bb elem, egy Exception-t kapunk\n",
      "print it.next()"
     ],
     "language": "python",
     "metadata": {},
     "outputs": [
      {
       "output_type": "stream",
       "stream": "stdout",
       "text": [
        "<iterator object at 0xb4ad8b4c>\n",
        "a\n",
        "b\n",
        "c\n"
       ]
      },
      {
       "ename": "StopIteration",
       "evalue": "",
       "output_type": "pyerr",
       "traceback": [
        "\u001b[1;31m---------------------------------------------------------------------------\u001b[0m\n\u001b[1;31mStopIteration\u001b[0m                             Traceback (most recent call last)",
        "\u001b[1;32m<ipython-input-61-ef7cf18cc61c>\u001b[0m in \u001b[0;36m<module>\u001b[1;34m()\u001b[0m\n\u001b[0;32m      6\u001b[0m \u001b[1;32mprint\u001b[0m \u001b[0mit\u001b[0m\u001b[1;33m.\u001b[0m\u001b[0mnext\u001b[0m\u001b[1;33m(\u001b[0m\u001b[1;33m)\u001b[0m\u001b[1;33m\u001b[0m\u001b[0m\n\u001b[0;32m      7\u001b[0m \u001b[1;32mprint\u001b[0m \u001b[0mit\u001b[0m\u001b[1;33m.\u001b[0m\u001b[0mnext\u001b[0m\u001b[1;33m(\u001b[0m\u001b[1;33m)\u001b[0m\u001b[1;33m\u001b[0m\u001b[0m\n\u001b[1;32m----> 8\u001b[1;33m \u001b[1;32mprint\u001b[0m \u001b[0mit\u001b[0m\u001b[1;33m.\u001b[0m\u001b[0mnext\u001b[0m\u001b[1;33m(\u001b[0m\u001b[1;33m)\u001b[0m\u001b[1;33m\u001b[0m\u001b[0m\n\u001b[0m",
        "\u001b[1;31mStopIteration\u001b[0m: "
       ]
      }
     ],
     "prompt_number": 61
    },
    {
     "cell_type": "markdown",
     "metadata": {},
     "source": [
      "A __gener\u00e1tor__ok egyszer\u0171 \u00e9s hat\u00e9kony eszk\u00f6z\u00f6k iter\u00e1torok l\u00e9trehoz\u00e1s\u00e1ra. Olyan f\u00fcggv\u00e9nyek, melyek a `yield` utas\u00edt\u00e1st haszn\u00e1lj\u00e1k adatok visszaad\u00e1s\u00e1ra."
     ]
    },
    {
     "cell_type": "code",
     "collapsed": false,
     "input": [
      "def reverse(data):\n",
      "    for index in range(len(data)-1, -1, -1):\n",
      "        yield data[index]"
     ],
     "language": "python",
     "metadata": {},
     "outputs": [
      {
       "output_type": "stream",
       "stream": "stdout",
       "text": [
        "<function reverse at 0xb4ae46f4>\n"
       ]
      }
     ],
     "prompt_number": 68
    },
    {
     "cell_type": "code",
     "collapsed": false,
     "input": [
      "flog = reverse('golf')\n",
      "print flog\n",
      "for char in flog:\n",
      "    print char,"
     ],
     "language": "python",
     "metadata": {},
     "outputs": [
      {
       "output_type": "stream",
       "stream": "stdout",
       "text": [
        "<generator object reverse at 0xb4ae6234>\n",
        "f l o g\n"
       ]
      }
     ],
     "prompt_number": 69
    },
    {
     "cell_type": "markdown",
     "metadata": {},
     "source": [
      "__Gener\u00e1tor kifejez\u00e9s__eket is l\u00e9trehozhatunk list comprehension-szer\u0171 szintaktik\u00e1val"
     ]
    },
    {
     "cell_type": "code",
     "collapsed": false,
     "input": [
      "a = (i*i for i in range(10))\n",
      "print a\n",
      "for i in a:\n",
      "    print i,"
     ],
     "language": "python",
     "metadata": {},
     "outputs": [
      {
       "output_type": "stream",
       "stream": "stdout",
       "text": [
        "<generator object <genexpr> at 0xb4ae6054>\n",
        "0 1 4 9 16 25 36 49 64 81\n"
       ]
      }
     ],
     "prompt_number": 71
    },
    {
     "cell_type": "markdown",
     "metadata": {},
     "source": [
      "##Lambda f\u00fcggv\u00e9nyek\n",
      "\n",
      "A __lambda  f\u00fcggv\u00e9ny__ek n\u00e9vtelen f\u00fcggv\u00e9nyek. Form\u00e1juk:\n",
      "\n",
      "<code>lambda _v\u00e1ltoz\u00f3(k)_: kifejez\u00e9s</code>"
     ]
    },
    {
     "cell_type": "code",
     "collapsed": false,
     "input": [
      "double = lambda x: x * 2\n",
      "print double"
     ],
     "language": "python",
     "metadata": {},
     "outputs": [
      {
       "output_type": "stream",
       "stream": "stdout",
       "text": [
        "<function <lambda> at 0xb4ae495c>\n"
       ]
      }
     ],
     "prompt_number": 73
    },
    {
     "cell_type": "code",
     "collapsed": false,
     "input": [
      "l = range(0, 20, 2)\n",
      "print map(double, l)"
     ],
     "language": "python",
     "metadata": {},
     "outputs": [
      {
       "output_type": "stream",
       "stream": "stdout",
       "text": [
        "[0, 4, 8, 12, 16, 20, 24, 28, 32, 36]\n"
       ]
      }
     ],
     "prompt_number": 77
    },
    {
     "cell_type": "code",
     "collapsed": false,
     "input": [
      "print ''.join(map(lambda x: x.upper(), 'oh long johnson'))"
     ],
     "language": "python",
     "metadata": {},
     "outputs": [
      {
       "output_type": "stream",
       "stream": "stdout",
       "text": [
        "OH LONG JOHNSON\n"
       ]
      }
     ],
     "prompt_number": 79
    },
    {
     "cell_type": "code",
     "collapsed": false,
     "input": [
      "pairs = [(1, 'one'), (2, 'two'), (3, 'three'), (4, 'four')]\n",
      "pairs.sort(key=lambda pair: pair[1])\n",
      "print pairs"
     ],
     "language": "python",
     "metadata": {},
     "outputs": [
      {
       "output_type": "stream",
       "stream": "stdout",
       "text": [
        "[(4, 'four'), (1, 'one'), (3, 'three'), (2, 'two')]\n"
       ]
      }
     ],
     "prompt_number": 80
    }
   ],
   "metadata": {}
  }
 ]
}
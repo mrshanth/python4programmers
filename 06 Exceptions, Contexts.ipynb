{
 "metadata": {
  "name": "",
  "signature": "sha256:ea491572aa6a50a9c5dca9e0c212c899e0b55079185b7bd83b394071dd528888"
 },
 "nbformat": 3,
 "nbformat_minor": 0,
 "worksheets": [
  {
   "cells": [
    {
     "cell_type": "markdown",
     "metadata": {},
     "source": [
      "#Kiv\u00e9telek\n",
      "\n",
      "__Syntax error__"
     ]
    },
    {
     "cell_type": "code",
     "collapsed": false,
     "input": [
      "while True print 'Hello world'"
     ],
     "language": "python",
     "metadata": {},
     "outputs": [
      {
       "ename": "SyntaxError",
       "evalue": "invalid syntax (<ipython-input-1-f4b9dbd125c8>, line 1)",
       "output_type": "pyerr",
       "traceback": [
        "\u001b[1;36m  File \u001b[1;32m\"<ipython-input-1-f4b9dbd125c8>\"\u001b[1;36m, line \u001b[1;32m1\u001b[0m\n\u001b[1;33m    while True print 'Hello world'\u001b[0m\n\u001b[1;37m                   ^\u001b[0m\n\u001b[1;31mSyntaxError\u001b[0m\u001b[1;31m:\u001b[0m invalid syntax\n"
       ]
      }
     ],
     "prompt_number": 1
    },
    {
     "cell_type": "markdown",
     "metadata": {},
     "source": [
      "__Exception__"
     ]
    },
    {
     "cell_type": "code",
     "collapsed": false,
     "input": [
      "10 * (1/0)"
     ],
     "language": "python",
     "metadata": {},
     "outputs": [
      {
       "ename": "ZeroDivisionError",
       "evalue": "integer division or modulo by zero",
       "output_type": "pyerr",
       "traceback": [
        "\u001b[1;31m---------------------------------------------------------------------------\u001b[0m\n\u001b[1;31mZeroDivisionError\u001b[0m                         Traceback (most recent call last)",
        "\u001b[1;32m<ipython-input-2-9ce172bd90a7>\u001b[0m in \u001b[0;36m<module>\u001b[1;34m()\u001b[0m\n\u001b[1;32m----> 1\u001b[1;33m \u001b[1;36m10\u001b[0m \u001b[1;33m*\u001b[0m \u001b[1;33m(\u001b[0m\u001b[1;36m1\u001b[0m\u001b[1;33m/\u001b[0m\u001b[1;36m0\u001b[0m\u001b[1;33m)\u001b[0m\u001b[1;33m\u001b[0m\u001b[0m\n\u001b[0m",
        "\u001b[1;31mZeroDivisionError\u001b[0m: integer division or modulo by zero"
       ]
      }
     ],
     "prompt_number": 2
    },
    {
     "cell_type": "code",
     "collapsed": false,
     "input": [
      "4 + spam*3"
     ],
     "language": "python",
     "metadata": {},
     "outputs": [
      {
       "ename": "NameError",
       "evalue": "name 'spam' is not defined",
       "output_type": "pyerr",
       "traceback": [
        "\u001b[1;31m---------------------------------------------------------------------------\u001b[0m\n\u001b[1;31mNameError\u001b[0m                                 Traceback (most recent call last)",
        "\u001b[1;32m<ipython-input-3-6b1dfe582d2e>\u001b[0m in \u001b[0;36m<module>\u001b[1;34m()\u001b[0m\n\u001b[1;32m----> 1\u001b[1;33m \u001b[1;36m4\u001b[0m \u001b[1;33m+\u001b[0m \u001b[0mspam\u001b[0m\u001b[1;33m*\u001b[0m\u001b[1;36m3\u001b[0m\u001b[1;33m\u001b[0m\u001b[0m\n\u001b[0m",
        "\u001b[1;31mNameError\u001b[0m: name 'spam' is not defined"
       ]
      }
     ],
     "prompt_number": 3
    },
    {
     "cell_type": "code",
     "collapsed": false,
     "input": [
      "'2' + 2"
     ],
     "language": "python",
     "metadata": {},
     "outputs": [
      {
       "ename": "TypeError",
       "evalue": "cannot concatenate 'str' and 'int' objects",
       "output_type": "pyerr",
       "traceback": [
        "\u001b[1;31m---------------------------------------------------------------------------\u001b[0m\n\u001b[1;31mTypeError\u001b[0m                                 Traceback (most recent call last)",
        "\u001b[1;32m<ipython-input-4-4c6dd5170204>\u001b[0m in \u001b[0;36m<module>\u001b[1;34m()\u001b[0m\n\u001b[1;32m----> 1\u001b[1;33m \u001b[1;34m'2'\u001b[0m \u001b[1;33m+\u001b[0m \u001b[1;36m2\u001b[0m\u001b[1;33m\u001b[0m\u001b[0m\n\u001b[0m",
        "\u001b[1;31mTypeError\u001b[0m: cannot concatenate 'str' and 'int' objects"
       ]
      }
     ],
     "prompt_number": 4
    },
    {
     "cell_type": "markdown",
     "metadata": {},
     "source": [
      "__Kiv\u00e9telkezel\u00e9s__"
     ]
    },
    {
     "cell_type": "code",
     "collapsed": false,
     "input": [
      "def fake(number):\n",
      "    try:\n",
      "        print int(number)\n",
      "    except ValueError:\n",
      "        print \"Oops!  That was no valid number.  Try again...\""
     ],
     "language": "python",
     "metadata": {},
     "outputs": [],
     "prompt_number": 7
    },
    {
     "cell_type": "code",
     "collapsed": false,
     "input": [
      "fake(5)\n",
      "fake('5')\n",
      "fake('one')"
     ],
     "language": "python",
     "metadata": {},
     "outputs": [
      {
       "output_type": "stream",
       "stream": "stdout",
       "text": [
        "5\n",
        "5\n",
        "Oops!  That was no valid number.  Try again...\n"
       ]
      }
     ],
     "prompt_number": 11
    },
    {
     "cell_type": "code",
     "collapsed": false,
     "input": [
      "import sys\n",
      "\n",
      "try:\n",
      "    f = open('myfile.txt')\n",
      "    s = f.readline()\n",
      "    i = int(s.strip())\n",
      "except IOError as e:\n",
      "    print \"I/O error({0}): {1}\".format(e.errno, e.strerror)\n",
      "except ValueError:\n",
      "    print \"Could not convert data to an integer.\"\n",
      "except:\n",
      "    print \"Unexpected error:\", sys.exc_info()[0]\n",
      "    raise"
     ],
     "language": "python",
     "metadata": {},
     "outputs": [
      {
       "output_type": "stream",
       "stream": "stdout",
       "text": [
        "I/O error(2): No such file or directory\n"
       ]
      }
     ],
     "prompt_number": 12
    },
    {
     "cell_type": "code",
     "collapsed": false,
     "input": [
      "import os\n",
      "\n",
      "for arg in os.listdir('.'):\n",
      "    try:\n",
      "        f = open(arg, 'r')\n",
      "    except IOError:\n",
      "        print 'cannot open', arg\n",
      "    else:\n",
      "        print arg, 'has', len(f.readlines()), 'lines'\n",
      "        f.close()"
     ],
     "language": "python",
     "metadata": {},
     "outputs": [
      {
       "output_type": "stream",
       "stream": "stdout",
       "text": [
        "02 Data types, Variables.ipynb has 1184 lines\n",
        "03 Functions, Decorators.ipynb has 510 lines\n",
        "cannot open files\n",
        "04 Control statements.ipynb has 701 lines\n",
        "helpers.py has 22 lines\n",
        "06 Exceptions, Contexts.ipynb has 258 lines\n",
        "comparison.html has "
       ]
      },
      {
       "output_type": "stream",
       "stream": "stdout",
       "text": [
        "1521 lines\n",
        "cannot open .ipynb_checkpoints\n",
        "07 Modules, Packages, Standard Library, Virtualenv, Pip.ipynb has 277 lines\n",
        "05 Object-Oriented Programming.ipynb has 1045 lines\n",
        "01 Introduction, Python versions, Implementations, Install.ipynb has "
       ]
      },
      {
       "output_type": "stream",
       "stream": "stdout",
       "text": [
        "244 lines\n"
       ]
      }
     ],
     "prompt_number": 17
    },
    {
     "cell_type": "code",
     "collapsed": false,
     "input": [
      "def divide(num1, num2):\n",
      "    try:\n",
      "        result = num1 / num2\n",
      "    except ZeroDivisionError:\n",
      "        print 'Cannot divide by Zero!'\n",
      "    else:\n",
      "        print num1, '/', num2, '=' , result\n",
      "    finally:\n",
      "        print 'finished running'"
     ],
     "language": "python",
     "metadata": {},
     "outputs": [],
     "prompt_number": 23
    },
    {
     "cell_type": "code",
     "collapsed": false,
     "input": [
      "divide(3, 4)"
     ],
     "language": "python",
     "metadata": {},
     "outputs": [
      {
       "output_type": "stream",
       "stream": "stdout",
       "text": [
        "3 / 4 = 0\n",
        "finished running\n"
       ]
      }
     ],
     "prompt_number": 25
    },
    {
     "cell_type": "code",
     "collapsed": false,
     "input": [
      "divide(3, 0)"
     ],
     "language": "python",
     "metadata": {},
     "outputs": [
      {
       "output_type": "stream",
       "stream": "stdout",
       "text": [
        "Cannot divide by Zero!\n",
        "finished running\n"
       ]
      }
     ],
     "prompt_number": 26
    },
    {
     "cell_type": "code",
     "collapsed": false,
     "input": [
      "try:\n",
      "   raise Exception('spam', 'eggs')\n",
      "except Exception as inst:\n",
      "   print type(inst)     \n",
      "   print inst.args      \n",
      "   print inst\n",
      "   x, y = inst.args\n",
      "   print 'x =', x\n",
      "   print 'y =', y"
     ],
     "language": "python",
     "metadata": {},
     "outputs": [
      {
       "output_type": "stream",
       "stream": "stdout",
       "text": [
        "<type 'exceptions.Exception'>\n",
        "('spam', 'eggs')\n",
        "('spam', 'eggs')\n",
        "x = spam\n",
        "y = eggs\n"
       ]
      }
     ],
     "prompt_number": 18
    },
    {
     "cell_type": "markdown",
     "metadata": {},
     "source": [
      "__Raise Exception__"
     ]
    },
    {
     "cell_type": "code",
     "collapsed": false,
     "input": [
      "raise NameError('HiThere')"
     ],
     "language": "python",
     "metadata": {},
     "outputs": [
      {
       "ename": "NameError",
       "evalue": "HiThere",
       "output_type": "pyerr",
       "traceback": [
        "\u001b[1;31m---------------------------------------------------------------------------\u001b[0m\n\u001b[1;31mNameError\u001b[0m                                 Traceback (most recent call last)",
        "\u001b[1;32m<ipython-input-19-93385ba972b1>\u001b[0m in \u001b[0;36m<module>\u001b[1;34m()\u001b[0m\n\u001b[1;32m----> 1\u001b[1;33m \u001b[1;32mraise\u001b[0m \u001b[0mNameError\u001b[0m\u001b[1;33m(\u001b[0m\u001b[1;34m'HiThere'\u001b[0m\u001b[1;33m)\u001b[0m\u001b[1;33m\u001b[0m\u001b[0m\n\u001b[0m",
        "\u001b[1;31mNameError\u001b[0m: HiThere"
       ]
      }
     ],
     "prompt_number": 19
    },
    {
     "cell_type": "code",
     "collapsed": false,
     "input": [
      "try:\n",
      "    raise NameError('HiThere')\n",
      "except NameError:\n",
      "    print 'An exception flew by!'\n",
      "    raise"
     ],
     "language": "python",
     "metadata": {},
     "outputs": [
      {
       "output_type": "stream",
       "stream": "stdout",
       "text": [
        "An exception flew by!\n"
       ]
      },
      {
       "ename": "NameError",
       "evalue": "HiThere",
       "output_type": "pyerr",
       "traceback": [
        "\u001b[1;31m---------------------------------------------------------------------------\u001b[0m\n\u001b[1;31mNameError\u001b[0m                                 Traceback (most recent call last)",
        "\u001b[1;32m<ipython-input-20-e6256f74f78e>\u001b[0m in \u001b[0;36m<module>\u001b[1;34m()\u001b[0m\n\u001b[0;32m      1\u001b[0m \u001b[1;32mtry\u001b[0m\u001b[1;33m:\u001b[0m\u001b[1;33m\u001b[0m\u001b[0m\n\u001b[1;32m----> 2\u001b[1;33m     \u001b[1;32mraise\u001b[0m \u001b[0mNameError\u001b[0m\u001b[1;33m(\u001b[0m\u001b[1;34m'HiThere'\u001b[0m\u001b[1;33m)\u001b[0m\u001b[1;33m\u001b[0m\u001b[0m\n\u001b[0m\u001b[0;32m      3\u001b[0m \u001b[1;32mexcept\u001b[0m \u001b[0mNameError\u001b[0m\u001b[1;33m:\u001b[0m\u001b[1;33m\u001b[0m\u001b[0m\n\u001b[0;32m      4\u001b[0m     \u001b[1;32mprint\u001b[0m \u001b[1;34m'An exception flew by!'\u001b[0m\u001b[1;33m\u001b[0m\u001b[0m\n\u001b[0;32m      5\u001b[0m     \u001b[1;32mraise\u001b[0m\u001b[1;33m\u001b[0m\u001b[0m\n",
        "\u001b[1;31mNameError\u001b[0m: HiThere"
       ]
      }
     ],
     "prompt_number": 20
    },
    {
     "cell_type": "markdown",
     "metadata": {},
     "source": [
      "__Saj\u00e1t kiv\u00e9telek__"
     ]
    },
    {
     "cell_type": "code",
     "collapsed": false,
     "input": [
      "class MyBad(Exception):\n",
      "    def __init__(self, value):\n",
      "        self.value = value\n",
      "    def __str__(self):\n",
      "        return repr(self.value)"
     ],
     "language": "python",
     "metadata": {},
     "outputs": [],
     "prompt_number": 32
    },
    {
     "cell_type": "code",
     "collapsed": false,
     "input": [
      "try:\n",
      "    raise MyBad(2*2)\n",
      "except MyBad as e:\n",
      "    print 'My exception occurred, value:', e.value"
     ],
     "language": "python",
     "metadata": {},
     "outputs": [
      {
       "output_type": "stream",
       "stream": "stdout",
       "text": [
        "My exception occurred, value: 4\n"
       ]
      }
     ],
     "prompt_number": 33
    },
    {
     "cell_type": "code",
     "collapsed": false,
     "input": [
      "raise MyBad('oops!')"
     ],
     "language": "python",
     "metadata": {},
     "outputs": [
      {
       "ename": "MyBad",
       "evalue": "'oops!'",
       "output_type": "pyerr",
       "traceback": [
        "\u001b[1;31m---------------------------------------------------------------------------\u001b[0m\n\u001b[1;31mMyBad\u001b[0m                                     Traceback (most recent call last)",
        "\u001b[1;32m<ipython-input-35-af1fe2b5dd53>\u001b[0m in \u001b[0;36m<module>\u001b[1;34m()\u001b[0m\n\u001b[1;32m----> 1\u001b[1;33m \u001b[1;32mraise\u001b[0m \u001b[0mMyBad\u001b[0m\u001b[1;33m(\u001b[0m\u001b[1;34m'oops!'\u001b[0m\u001b[1;33m)\u001b[0m\u001b[1;33m\u001b[0m\u001b[0m\n\u001b[0m",
        "\u001b[1;31mMyBad\u001b[0m: 'oops!'"
       ]
      }
     ],
     "prompt_number": 35
    },
    {
     "cell_type": "code",
     "collapsed": false,
     "input": [
      "class Error(Exception):\n",
      "    \"\"\"Base class for exceptions in this module.\"\"\"\n",
      "    pass\n",
      "\n",
      "class InputError(Error):\n",
      "    \"\"\"Exception raised for errors in the input.\n",
      "\n",
      "    Attributes:\n",
      "        expr -- input expression in which the error occurred\n",
      "        msg  -- explanation of the error\n",
      "    \"\"\"\n",
      "\n",
      "    def __init__(self, expr, msg):\n",
      "        self.expr = expr\n",
      "        self.msg = msg\n",
      "        \n",
      "class TransitionError(Error):\n",
      "    \"\"\"Raised when an operation attempts a state transition that's not\n",
      "    allowed.\n",
      "\n",
      "    Attributes:\n",
      "        prev -- state at beginning of transition\n",
      "        next -- attempted new state\n",
      "        msg  -- explanation of why the specific transition is not allowed\n",
      "    \"\"\"\n",
      "\n",
      "    def __init__(self, prev, next, msg):\n",
      "        self.prev = prev\n",
      "        self.next = next\n",
      "        self.msg = msg"
     ],
     "language": "python",
     "metadata": {},
     "outputs": [],
     "prompt_number": 40
    },
    {
     "cell_type": "markdown",
     "metadata": {},
     "source": [
      "#Context manager-ek\n",
      "\n",
      "File-ba \u00edr\u00e1s:"
     ]
    },
    {
     "cell_type": "code",
     "collapsed": false,
     "input": [
      "foo = file(\"./foo\", \"w\")\n",
      "try:\n",
      "    foo.write(\"Hello!\")\n",
      "finally:\n",
      "    foo.close()"
     ],
     "language": "python",
     "metadata": {},
     "outputs": [],
     "prompt_number": 41
    },
    {
     "cell_type": "markdown",
     "metadata": {},
     "source": [
      "helyett a __with__ utas\u00edt\u00e1ssal:"
     ]
    },
    {
     "cell_type": "code",
     "collapsed": false,
     "input": [
      "with file(\"./foo\", \"w\") as foo:\n",
      "    foo.write('Hello!')"
     ],
     "language": "python",
     "metadata": {},
     "outputs": [],
     "prompt_number": 42
    },
    {
     "cell_type": "markdown",
     "metadata": {},
     "source": [
      "A __context manager__-ek elv\u00e9gzik a piszkos munk\u00e1t helyett\u00fcnk:\n",
      "\n",
      "- elv\u00e9gzik az objektum be\u00e1ll\u00edt\u00e1s\u00e1t __<code>\\_\\_enter\\_\\_</code>__\n",
      "- majd eltakar\u00edtanak ut\u00e1na __<code>\\_\\_exit\\_\\_</code>__"
     ]
    },
    {
     "cell_type": "code",
     "collapsed": false,
     "input": [
      "class Closer(object):\n",
      "    '''A context manager to automatically close an object with a close method\n",
      "    in a with statement.'''\n",
      "\n",
      "    def __init__(self, obj):\n",
      "        self.obj = obj\n",
      "\n",
      "    def __enter__(self):\n",
      "        return self.obj # visszaadjuk az `as`-nek\n",
      "\n",
      "    def __exit__(self, exception_type, exception_val, trace):\n",
      "        try:\n",
      "           self.obj.close()\n",
      "        except AttributeError: # ha az obj-nak nincs close met\u00f3dusa\n",
      "           print 'Not closable.'\n",
      "           return True # a hib\u00e1t lekezelt\u00fck"
     ],
     "language": "python",
     "metadata": {},
     "outputs": [],
     "prompt_number": 43
    },
    {
     "cell_type": "code",
     "collapsed": false,
     "input": [
      "class Hodor(object):\n",
      "    \"\"\"Hodor. Hodor hodor hodor, hodor.\"\"\"\n",
      "    def __init__(self, hodor):\n",
      "        self.hodor = hodor\n",
      "    \n",
      "    def hodor_hodor(self, hodor):\n",
      "        print (self.hodor + ' ') * hodor,\n",
      "    \n",
      "    def close(self):\n",
      "        print self.hodor + '!'"
     ],
     "language": "python",
     "metadata": {},
     "outputs": [],
     "prompt_number": 53
    },
    {
     "cell_type": "code",
     "collapsed": false,
     "input": [
      "with Closer(Hodor('Hodor')) as hodor:\n",
      "    hodor.hodor_hodor(5)"
     ],
     "language": "python",
     "metadata": {},
     "outputs": [
      {
       "output_type": "stream",
       "stream": "stdout",
       "text": [
        "Hodor Hodor Hodor Hodor Hodor  Hodor!\n"
       ]
      }
     ],
     "prompt_number": 54
    }
   ],
   "metadata": {}
  }
 ]
}
{
 "metadata": {
  "name": "",
  "signature": "sha256:91a3999fe5e1fdf1231225111c65efea227cdbe9efd399d27c94dd40cd0fa13a"
 },
 "nbformat": 3,
 "nbformat_minor": 0,
 "worksheets": [
  {
   "cells": [
    {
     "cell_type": "markdown",
     "metadata": {},
     "source": [
      "##\u00a0Modulok\n",
      "-\u00a0*.py f\u00e1jlok \n",
      "- a file neve egyben a modul neve is ( ez\u00e9rt ker\u00fclend\u0151 a space, speci\u00e1lis karakterek)"
     ]
    },
    {
     "cell_type": "code",
     "collapsed": false,
     "input": [
      "from helpers import foo\n",
      "foo()"
     ],
     "language": "python",
     "metadata": {},
     "outputs": [
      {
       "output_type": "stream",
       "stream": "stdout",
       "text": [
        "bar\n"
       ]
      }
     ],
     "prompt_number": 17
    },
    {
     "cell_type": "code",
     "collapsed": false,
     "input": [
      "from helpers import * ##\u00a0NEVER!\n",
      "foo()"
     ],
     "language": "python",
     "metadata": {},
     "outputs": [
      {
       "output_type": "stream",
       "stream": "stdout",
       "text": [
        "bar\n"
       ]
      }
     ],
     "prompt_number": 18
    },
    {
     "cell_type": "code",
     "collapsed": false,
     "input": [
      "import helpers\n",
      "helpers.foo()"
     ],
     "language": "python",
     "metadata": {},
     "outputs": [
      {
       "output_type": "stream",
       "stream": "stdout",
       "text": [
        "bar\n"
       ]
      }
     ],
     "prompt_number": 19
    },
    {
     "cell_type": "markdown",
     "metadata": {},
     "source": [
      "- a modulokban lehetnek f\u00fcggv\u00e9nyek, classok, objectek, utas\u00edt\u00e1sok\n",
      "- minden utas\u00edt\u00e1s pontosan 1x fut le az import sor\u00e1n ->\u00a0pythonban a modulban defini\u00e1lt objectek gyakorlatilag singletonok"
     ]
    },
    {
     "cell_type": "markdown",
     "metadata": {},
     "source": [
      "## Packagek\n",
      "- n\u00e9vterek kialak\u00edt\u00e1s\u00e1ra\n",
      "- k\u00f6nyvt\u00e1rakban speci\u00e1lis dunder-init py (\u00e9rtds \\_\\_init\\_\\_.py)"
     ]
    },
    {
     "cell_type": "markdown",
     "metadata": {},
     "source": [
      "##\u00a0Standard Library\n",
      "- a pythonal egy\u00fctt fejlesztik \u00e9s telep\u00fcl\n",
      "- linux alatt a /usr/lib/python k\u00f6nyvt\u00e1r alatt\n",
      "- https://docs.python.org/2/library/\n"
     ]
    },
    {
     "cell_type": "code",
     "collapsed": false,
     "input": [
      "from os.path import abspath, curdir\n",
      "abspath(curdir)"
     ],
     "language": "python",
     "metadata": {},
     "outputs": [
      {
       "metadata": {},
       "output_type": "pyout",
       "prompt_number": 23,
       "text": [
        "'/Users/landrasi/Dropbox/python4programmers'"
       ]
      }
     ],
     "prompt_number": 23
    },
    {
     "cell_type": "code",
     "collapsed": false,
     "input": [
      "from gettext import gettext as _\n",
      "_('Translate me')"
     ],
     "language": "python",
     "metadata": {},
     "outputs": [
      {
       "metadata": {},
       "output_type": "pyout",
       "prompt_number": 24,
       "text": [
        "'Translate me'"
       ]
      }
     ],
     "prompt_number": 24
    },
    {
     "cell_type": "code",
     "collapsed": false,
     "input": [
      "from uuid import uuid4\n",
      "u = uuid4()\n",
      "u.hex"
     ],
     "language": "python",
     "metadata": {},
     "outputs": [
      {
       "metadata": {},
       "output_type": "pyout",
       "prompt_number": 26,
       "text": [
        "'f1f77fbebfcb42ec9f103ddf934b5ae8'"
       ]
      }
     ],
     "prompt_number": 26
    },
    {
     "cell_type": "code",
     "collapsed": false,
     "input": [
      "from json import dumps\n",
      "dumps({'sample': 'dict', 'to': 'parse'})"
     ],
     "language": "python",
     "metadata": {},
     "outputs": [
      {
       "metadata": {},
       "output_type": "pyout",
       "prompt_number": 27,
       "text": [
        "'{\"sample\": \"dict\", \"to\": \"parse\"}'"
       ]
      }
     ],
     "prompt_number": 27
    },
    {
     "cell_type": "markdown",
     "metadata": {},
     "source": [
      "##\u00a0sys.path"
     ]
    },
    {
     "cell_type": "code",
     "collapsed": false,
     "input": [
      "import sys\n",
      "sys.path"
     ],
     "language": "python",
     "metadata": {},
     "outputs": [
      {
       "metadata": {},
       "output_type": "pyout",
       "prompt_number": 28,
       "text": [
        "['',\n",
        " '/Users/landrasi/Dropbox/python4programmers/.ve27/lib/python27.zip',\n",
        " '/Users/landrasi/Dropbox/python4programmers/.ve27/lib/python2.7',\n",
        " '/Users/landrasi/Dropbox/python4programmers/.ve27/lib/python2.7/plat-darwin',\n",
        " '/Users/landrasi/Dropbox/python4programmers/.ve27/lib/python2.7/plat-mac',\n",
        " '/Users/landrasi/Dropbox/python4programmers/.ve27/lib/python2.7/plat-mac/lib-scriptpackages',\n",
        " '/Users/landrasi/Dropbox/python4programmers/.ve27/lib/python2.7/lib-tk',\n",
        " '/Users/landrasi/Dropbox/python4programmers/.ve27/lib/python2.7/lib-old',\n",
        " '/Users/landrasi/Dropbox/python4programmers/.ve27/lib/python2.7/lib-dynload',\n",
        " '/usr/local/Cellar/python/2.7.6/Frameworks/Python.framework/Versions/2.7/lib/python2.7',\n",
        " '/usr/local/Cellar/python/2.7.6/Frameworks/Python.framework/Versions/2.7/lib/python2.7/plat-darwin',\n",
        " '/usr/local/Cellar/python/2.7.6/Frameworks/Python.framework/Versions/2.7/lib/python2.7/lib-tk',\n",
        " '/usr/local/Cellar/python/2.7.6/Frameworks/Python.framework/Versions/2.7/lib/python2.7/plat-mac',\n",
        " '/usr/local/Cellar/python/2.7.6/Frameworks/Python.framework/Versions/2.7/lib/python2.7/plat-mac/lib-scriptpackages',\n",
        " '/Users/landrasi/Dropbox/python4programmers/.ve27/lib/python2.7/site-packages',\n",
        " '/Users/landrasi/Dropbox/python4programmers/.ve27/lib/python2.7/site-packages/IPython/extensions']"
       ]
      }
     ],
     "prompt_number": 28
    },
    {
     "cell_type": "markdown",
     "metadata": {},
     "source": [
      "##\u00a0pip\n",
      "- open source packagek telep\u00edt\u00e9se - https://pypi.python.org/pypi\n",
      "- pip install Flask\n",
      "- pip install SQLAlchemy\n",
      "- pip install ipython[notebook]\n",
      "- a fenti parancsokhoz alapb\u00f3l root jog kellene mert a /Library-ba akarnak \u00edrni\n",
      "\n",
      "\n",
      "\n",
      "## virtualenv\n",
      "- the best thing since sliced bread\n",
      "- er\u0151sen aj\u00e1nlott haszn\u00e1lni, mert:\n",
      "1. nem szemeteled tele a /usr/lib-et\n",
      "2. nem kell root jog a telep\u00edt\u00e9sekhez\n",
      "3. t\u00f6bb k\u00fcl\u00f6nb\u00f6z\u0151 verzi\u00f3t is tudsz haszn\u00e1lni ugyanabb\u00f3l a packageb\u0151l ha k\u00fcl\u00f6n virtualenvbe rakod\n",
      "- demo?\n"
     ]
    },
    {
     "cell_type": "code",
     "collapsed": false,
     "input": [],
     "language": "python",
     "metadata": {},
     "outputs": []
    },
    {
     "cell_type": "code",
     "collapsed": false,
     "input": [],
     "language": "python",
     "metadata": {},
     "outputs": []
    }
   ],
   "metadata": {}
  }
 ]
}